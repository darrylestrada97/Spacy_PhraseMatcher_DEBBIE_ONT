{
 "cells": [
  {
   "cell_type": "code",
   "execution_count": null,
   "id": "6665922b-4c02-4a9d-b518-d11103d3f467",
   "metadata": {},
   "outputs": [],
   "source": [
    "\"\"\" In this Jupyter notebook, we will explore the use of Spacy's PhraseMatcher with RapidFuzzy search to identify terms from a list of terms in a given text. Spacy is a popular open-source software library used for advanced Natural Language Processing (NLP) tasks, while RapidFuzzy is a fast and efficient fuzzy search library in Python.\n",
    "\n",
    "The ability to quickly and accurately identify terms from a list in a text is a crucial task in NLP applications such as document classification, sentiment analysis, and named entity recognition. The combination of Spacy's PhraseMatcher and RapidFuzzy search can greatly simplify this task and reduce the computational time needed.\n",
    "\n",
    "Throughout this notebook, we will walk through the steps to create a PhraseMatcher object, use RapidFuzzy search to compare the extracted phrases with a list of terms, and finally visualize the results. By the end of this notebook, you will have a better understanding of how to use Spacy and RapidFuzzy together to efficiently identify terms in a given text.\"\"\""
   ]
  },
  {
   "cell_type": "code",
   "execution_count": null,
   "id": "f384d282",
   "metadata": {},
   "outputs": [],
   "source": [
    "##Create term list should look like this [{\"ID\": 1, \"term\": \"term1\", \"label\": \"label1\"}, {\"ID\": 2, \"term\": \"term2\", \"label\": \"label2\"}, ... {\"ID\": 30000, \"term\": \"term30000\", \"label\": \"label30000\"}\n",
    "\n",
    "import os\n",
    "import pandas as pd\n",
    "from multiprocessing  import Pool\n",
    "import spacy\n",
    "from spacy.matcher import PhraseMatcher\n",
    "from rapidfuzz import fuzz\n",
    "\n",
    "\n",
    "list_of_dictionaries = [dic for dic in os.listdir(\"DEBBIE_dictionaries_annotations-main/dictionaries\") if dic.startswith(\".\") is False]"
   ]
  },
  {
   "cell_type": "code",
   "execution_count": null,
   "id": "93e29243",
   "metadata": {},
   "outputs": [],
   "source": [
    "terms = []\n",
    "for dictionary in list_of_dictionaries:\n",
    "    try:\n",
    "        data = pd.read_csv(\"DEBBIE_dictionaries_annotations-main/dictionaries/\"+dictionary,sep=\"\\t\",usecols=[0,1,2], names=['term', 'label',\"id\"], header=None)\n",
    "        data = data.dropna()\n",
    "        data = data.to_dict(orient=\"records\")\n",
    "        for d in data:\n",
    "            d[\"label\"] = d[\"label\"].replace(\"LABEL=\", \"\") # remove the \"LABEL=\" string from the \"label\" key\n",
    "            d[\"id\"] = d[\"id\"].replace(\"ID=\", \"\") # remove the \"ID=\" string from the \"id\" key\n",
    "        terms += data \n",
    "    except:\n",
    "        print(dictionary)"
   ]
  },
  {
   "cell_type": "code",
   "execution_count": null,
   "id": "6c02931e",
   "metadata": {},
   "outputs": [],
   "source": [
    "def create_patterns(term):\n",
    "    try:\n",
    "        pattern = nlp(term[\"term\"])\n",
    "        fuzzy_pattern = [{\"LOWER\": token.lower_, \"FUZZY\": term[\"term\"]} for token in pattern]\n",
    "        return (fuzzy_pattern + [{\"ID\": term[\"id\"], \"LABEL\": term[\"label\"]}, pattern])\n",
    "    except:\n",
    "        print(\"error with term: \"+str(term))"
   ]
  },
  {
   "cell_type": "code",
   "execution_count": null,
   "id": "81176902",
   "metadata": {},
   "outputs": [],
   "source": [
    "\n",
    "\n",
    "nlp = spacy.load(\"en_core_web_sm\") # load the small English model\n",
    "\n",
    "matcher = PhraseMatcher(nlp.vocab) # initialize the PhraseMatcher object\n",
    "#terms = [{\"ID\": 1, \"term\": \"term1\", \"label\": \"label1\"}, {\"ID\": 2, \"term\": \"term2\", \"label\": \"label2\"}, ... {\"ID\": 30000, \"term\": \"term30000\", \"label\": \"label30000\"}] # list of dictionaries containing terms to match (30000 terms)\n",
    "\n",
    "# create a list of patterns that includes the original term and its fuzzy match, as well as the term ID and label\n",
    "patterns = []\n",
    "# for term in terms:\n",
    "#     pattern = nlp(term[\"term\"])\n",
    "#     fuzzy_pattern = [{\"LOWER\": token.lower_, \"FUZZY\": term[\"term\"]} for token in pattern]\n",
    "#     patterns.append(fuzzy_pattern + [{\"ID\": term[\"id\"], \"LABEL\": term[\"label\"]}, pattern])\n",
    "with Pool(6) as pool:\n",
    "    patterns += pool.map(create_patterns,terms)\n",
    "matcher.add(\"TERMS\", None, *patterns)\n",
    "\n",
    "# example text to match against\n",
    "text = \"Here is an example text that contains some of the terms we want to match.\"\n",
    "\n",
    "doc = nlp(text) # create a Doc object from the example text\n",
    "matches = []\n",
    "for pattern in patterns:\n",
    "    for match in matcher(doc):\n",
    "        if match[0] == nlp.vocab.strings[\"TERMS\"]:\n",
    "            match_text = doc[match[1]:match[2]].text.lower()\n",
    "            if fuzz.partial_ratio(match_text, pattern[0][\"FUZZY\"]) > 80:\n",
    "                matches.append(match + pattern[-2:])\n",
    "\n",
    "# print the matches\n",
    "for match_id, start, end, metadata, _ in matches:\n",
    "    print(f\"Matched term: {doc[start:end].text}\")\n",
    "    print(f\"ID: {metadata['ID']}\")\n",
    "    print(f\"Label: {metadata['LABEL']}\")\n",
    "    print()\n"
   ]
  },
  {
   "cell_type": "code",
   "execution_count": null,
   "id": "599558c3",
   "metadata": {},
   "outputs": [],
   "source": [
    "terms[0]"
   ]
  },
  {
   "cell_type": "code",
   "execution_count": 8,
   "id": "eaf37111",
   "metadata": {},
   "outputs": [],
   "source": [
    "patterns_2 = []\n",
    "\n",
    "for n in terms:\n",
    "    patter = {}\n",
    "    pattern = []\n",
    "    text = n[\"term\"].split(\" \")\n",
    "    for n_t in text:\n",
    "        pattern.append({\"LOWER\":n_t.lower()})\n",
    "    patter[\"id\"] = n[\"id\"]\n",
    "    patter[\"label\"] = n[\"label\"]\n",
    "    patter[\"pattern\"] = pattern\n",
    "    patterns_2.append(patter)\n",
    "\n"
   ]
  },
  {
   "cell_type": "code",
   "execution_count": 5,
   "id": "f431699c",
   "metadata": {},
   "outputs": [],
   "source": [
    "ruler = nlp.add_pipe(\"entity_ruler\",validate=True)\n"
   ]
  },
  {
   "cell_type": "code",
   "execution_count": 11,
   "id": "b16bb8bd",
   "metadata": {},
   "outputs": [],
   "source": [
    "txt=\"\"\"1998 Jan\n",
    "Bioactive glass fiber/polymeric composites bond to bone tissue. \n",
    "Bioactive glass fibers were investigated for use as a fixation vehicle between a low modulus, polymeric composite and bone tissue. In an initial pilot study, bioactive glass fiber/polysulfone composites and all polysulfone control rods were implanted into the rabbit tibia; the study was subsequently expanded with implantation into the rabbit femur. Bone tissue exhibited direct contact with the glass fibers and adjacent polymer matrix and displayed a mechanical bond between the composite and bone tissue after six weeks implantation. Interfacial bond strengths after six weeks implantation averaged 12.4 MPa, significantly higher than those of the all polymer controls. Failure sites for the composite at six weeks generally occurred in the bone tissue or composite, whereas the failure site for the polymer implants occurred exclusively at the implant/tissue interface. The bioactive glass fiber/polysulfone composite achieved fixation to bone tissue through a triple mechanism: a bond to the bioactive glass fiber, mechanical interlocking between the tissue and glass fibers, and close apposition and possible chemical bond between the portions of the polymer and bone tissue. This last mechanism resulted from an overspill of bioactivity reactions from the fibers onto the surface of the surrounding polymer which we call the \"halo\" effect. \"\"\""
   ]
  },
  {
   "cell_type": "code",
   "execution_count": 9,
   "id": "76e29c9b",
   "metadata": {},
   "outputs": [],
   "source": [
    "ruler.add_patterns(patterns_2)"
   ]
  },
  {
   "cell_type": "code",
   "execution_count": 14,
   "id": "9fdc6302",
   "metadata": {},
   "outputs": [],
   "source": [
    "doc = nlp(txt)"
   ]
  },
  {
   "cell_type": "code",
   "execution_count": 12,
   "id": "8c2fc7a0",
   "metadata": {},
   "outputs": [
    {
     "data": {
      "text/plain": [
       "('ner', <spacy.pipeline.ner.EntityRecognizer at 0x7f230a90c350>)"
      ]
     },
     "execution_count": 12,
     "metadata": {},
     "output_type": "execute_result"
    }
   ],
   "source": [
    "nlp.remove_pipe(\"ner\")"
   ]
  },
  {
   "cell_type": "code",
   "execution_count": 15,
   "id": "25cd9f90",
   "metadata": {},
   "outputs": [
    {
     "name": "stdout",
     "output_type": "stream",
     "text": [
      "EffectOnBiologicalSystem Bioactive\n",
      "BiomaterialType glass\n",
      "Structure fiber\n",
      "BiomaterialType polymeric\n",
      "Tissue bone tissue\n",
      "EffectOnBiologicalSystem Bioactive\n",
      "BiomaterialType glass\n",
      "Structure fibers\n",
      "BiomaterialType polymeric\n",
      "BiomaterialType composite\n",
      "Tissue bone tissue\n",
      "EffectOnBiologicalSystem bioactive\n",
      "BiomaterialType glass\n",
      "Structure fiber\n",
      "Biomaterial polysulfone\n",
      "Biomaterial polysulfone\n",
      "Species rabbit\n",
      "MedicalApplication implantation\n",
      "Species rabbit\n",
      "Tissue femur\n",
      "Tissue Bone tissue\n",
      "BiomaterialType glass\n",
      "Structure fibers\n",
      "BiomaterialType polymer\n",
      "BiomaterialType composite\n",
      "Tissue bone tissue\n",
      "MedicalApplication implantation\n",
      "MedicalApplication implantation\n",
      "BiomaterialType polymer\n",
      "BiomaterialType composite\n",
      "Tissue bone tissue\n",
      "ResearchTechnique or\n",
      "BiomaterialType composite\n",
      "BiomaterialType polymer\n",
      "ManufacturedObject implant\n",
      "Tissue tissue\n",
      "EffectOnBiologicalSystem bioactive\n",
      "BiomaterialType glass\n",
      "Structure fiber\n",
      "Biomaterial polysulfone\n",
      "BiomaterialType composite\n",
      "Tissue bone tissue\n",
      "EffectOnBiologicalSystem bioactive\n",
      "BiomaterialType glass\n",
      "Structure fiber\n",
      "Tissue tissue\n",
      "BiomaterialType glass\n",
      "Structure fibers\n",
      "Biomaterial polymer\n",
      "Tissue bone tissue\n",
      "EffectOnBiologicalSystem bioactivity\n",
      "Structure fibers\n",
      "ManufacturedObjectComponent surface\n",
      "BiomaterialType polymer\n"
     ]
    }
   ],
   "source": [
    "for ent in doc.ents:\n",
    "    print(ent.label_,ent.text)"
   ]
  },
  {
   "cell_type": "code",
   "execution_count": null,
   "id": "7728f382",
   "metadata": {},
   "outputs": [],
   "source": [
    "for d in data:\n",
    "    if d[\"term\"]:\n",
    "        print(\"Empty value found for 'term' key in dictionary:\", d)"
   ]
  }
 ],
 "metadata": {
  "kernelspec": {
   "display_name": "Python 3 (ipykernel)",
   "language": "python",
   "name": "python3"
  },
  "language_info": {
   "codemirror_mode": {
    "name": "ipython",
    "version": 3
   },
   "file_extension": ".py",
   "mimetype": "text/x-python",
   "name": "python",
   "nbconvert_exporter": "python",
   "pygments_lexer": "ipython3",
   "version": "3.9.7"
  }
 },
 "nbformat": 4,
 "nbformat_minor": 5
}
